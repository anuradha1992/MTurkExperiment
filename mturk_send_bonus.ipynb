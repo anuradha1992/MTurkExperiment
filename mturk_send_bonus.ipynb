{
 "cells": [
  {
   "cell_type": "code",
   "execution_count": 1,
   "metadata": {},
   "outputs": [],
   "source": [
    "import boto3\n",
    "import csv\n",
    "import xmltodict\n",
    "import datetime\n",
    "\n",
    "import pandas as pd\n",
    "import numpy as np"
   ]
  },
  {
   "cell_type": "markdown",
   "metadata": {},
   "source": [
    "## Get results from Mturk"
   ]
  },
  {
   "cell_type": "code",
   "execution_count": 2,
   "metadata": {},
   "outputs": [],
   "source": [
    "with open('lia_rootkey.csv') as f: # <-- Change accordingly!\n",
    "    reader = csv.reader(f)\n",
    "    rows = [r for r in reader]\n",
    "\n",
    "ACCESS_KEY = rows[0][0].split('=')[1]\n",
    "SECRET_KEY = rows[1][0].split('=')[1]"
   ]
  },
  {
   "cell_type": "code",
   "execution_count": 3,
   "metadata": {},
   "outputs": [],
   "source": [
    "# connect to Mturk\n",
    "mturk = boto3.client('mturk',\n",
    "   aws_access_key_id = ACCESS_KEY,\n",
    "   aws_secret_access_key = SECRET_KEY,\n",
    "   region_name='us-east-1'\n",
    ")"
   ]
  },
  {
   "cell_type": "code",
   "execution_count": 4,
   "metadata": {},
   "outputs": [
    {
     "name": "stdout",
     "output_type": "stream",
     "text": [
      "I have $2137.14 in my Mturk account\n"
     ]
    }
   ],
   "source": [
    "# Make sure the connection is ok\n",
    "print(\"I have $\" + mturk.get_account_balance()['AvailableBalance'] + \" in my Mturk account\")"
   ]
  },
  {
   "cell_type": "code",
   "execution_count": 5,
   "metadata": {},
   "outputs": [
    {
     "name": "stdout",
     "output_type": "stream",
     "text": [
      "Hit 31KPKEKW4AEQJPER1N8L7J4KJG9B0F status: Reviewable\n"
     ]
    }
   ],
   "source": [
    "# Retrieve HIT results\n",
    "hit_id = '31KPKEKW4AEQJPER1N8L7J4KJG9B0F' # <-- Change accordingly!\n",
    "hit = mturk.get_hit(HITId=hit_id)\n",
    "print('Hit {} status: {}'.format(hit_id, hit['HIT']['HITStatus']))"
   ]
  },
  {
   "cell_type": "code",
   "execution_count": 6,
   "metadata": {},
   "outputs": [],
   "source": [
    "# specify the correct AssignmentStatus: 'Submitted'|'Approved'|'Rejected'\n",
    "worker_results = mturk.list_assignments_for_hit(HITId=hit_id, AssignmentStatuses=['Submitted'], MaxResults=50)"
   ]
  },
  {
   "cell_type": "code",
   "execution_count": 7,
   "metadata": {},
   "outputs": [],
   "source": [
    "results = {\n",
    "    'id': [],\n",
    "    'accepted': [],\n",
    "    'submitted': [],\n",
    "    'elapsed': [],\n",
    "    'code': [],\n",
    "    'assignment_id': []\n",
    "}\n",
    "for assignment in worker_results['Assignments']:\n",
    "    results['id'].append(str(assignment['WorkerId']))\n",
    "    results['accepted'].append(assignment['AcceptTime'])\n",
    "    results['submitted'].append(assignment['SubmitTime'])\n",
    "    \n",
    "    elapsed = assignment['SubmitTime'] - assignment['AcceptTime']\n",
    "    results['elapsed'].append(round(elapsed.total_seconds() / 60, 2))\n",
    "    \n",
    "    answer_dict = xmltodict.parse(assignment['Answer'])\n",
    "    results['code'].append(str(answer_dict['QuestionFormAnswers']['Answer']['FreeText']))\n",
    "    \n",
    "    results['assignment_id'].append(str(assignment['AssignmentId']))"
   ]
  },
  {
   "cell_type": "code",
   "execution_count": 8,
   "metadata": {},
   "outputs": [],
   "source": [
    "mturk_df = pd.DataFrame(results)"
   ]
  },
  {
   "cell_type": "code",
   "execution_count": 10,
   "metadata": {},
   "outputs": [
    {
     "name": "stdout",
     "output_type": "stream",
     "text": [
      "(47, 6)\n"
     ]
    },
    {
     "data": {
      "text/html": [
       "<div>\n",
       "<style scoped>\n",
       "    .dataframe tbody tr th:only-of-type {\n",
       "        vertical-align: middle;\n",
       "    }\n",
       "\n",
       "    .dataframe tbody tr th {\n",
       "        vertical-align: top;\n",
       "    }\n",
       "\n",
       "    .dataframe thead th {\n",
       "        text-align: right;\n",
       "    }\n",
       "</style>\n",
       "<table border=\"1\" class=\"dataframe\">\n",
       "  <thead>\n",
       "    <tr style=\"text-align: right;\">\n",
       "      <th></th>\n",
       "      <th>id</th>\n",
       "      <th>accepted</th>\n",
       "      <th>submitted</th>\n",
       "      <th>elapsed</th>\n",
       "      <th>code</th>\n",
       "      <th>assignment_id</th>\n",
       "    </tr>\n",
       "  </thead>\n",
       "  <tbody>\n",
       "    <tr>\n",
       "      <td>0</td>\n",
       "      <td>A2RHE12CJSKCRE</td>\n",
       "      <td>2020-06-03 14:36:00+02:00</td>\n",
       "      <td>2020-06-03 14:40:10+02:00</td>\n",
       "      <td>4.17</td>\n",
       "      <td>EMOTIONALITY-FOR-CHATBOTS</td>\n",
       "      <td>33C7UALJVLZ9A0ZWKXXDJ6TK4O1180</td>\n",
       "    </tr>\n",
       "    <tr>\n",
       "      <td>1</td>\n",
       "      <td>A39PRBPSKA7A49</td>\n",
       "      <td>2020-06-03 14:36:02+02:00</td>\n",
       "      <td>2020-06-03 14:40:45+02:00</td>\n",
       "      <td>4.72</td>\n",
       "      <td>EMOTIONALITY-FOR-CHATBOTS</td>\n",
       "      <td>338JKRMM260YXZDPJKKC7KFMB1WHAI</td>\n",
       "    </tr>\n",
       "    <tr>\n",
       "      <td>2</td>\n",
       "      <td>ACO21NZBM9EGS</td>\n",
       "      <td>2020-06-03 14:36:04+02:00</td>\n",
       "      <td>2020-06-03 14:41:15+02:00</td>\n",
       "      <td>5.18</td>\n",
       "      <td>EMOTIONALITY-FOR-CHATBOTS</td>\n",
       "      <td>3R08VXYT7CWYBNAG7GUSYWNJPH3W76</td>\n",
       "    </tr>\n",
       "    <tr>\n",
       "      <td>3</td>\n",
       "      <td>A3F7IDKJWW8962</td>\n",
       "      <td>2020-06-03 14:35:48+02:00</td>\n",
       "      <td>2020-06-03 14:41:52+02:00</td>\n",
       "      <td>6.07</td>\n",
       "      <td>EMOTIONALITY-FOR-CHATBOTS</td>\n",
       "      <td>3KV0LJBBH2MCOU0HCSMBUFCSSRJRM9</td>\n",
       "    </tr>\n",
       "    <tr>\n",
       "      <td>4</td>\n",
       "      <td>A2K6CBNIXLVRSS</td>\n",
       "      <td>2020-06-03 14:35:57+02:00</td>\n",
       "      <td>2020-06-03 14:42:02+02:00</td>\n",
       "      <td>6.08</td>\n",
       "      <td>EMOTIONALITY-FOR-CHATBOTS</td>\n",
       "      <td>3YDTZAI2WXH8RZCU8U702UDF22541W</td>\n",
       "    </tr>\n",
       "  </tbody>\n",
       "</table>\n",
       "</div>"
      ],
      "text/plain": [
       "               id                  accepted                 submitted  \\\n",
       "0  A2RHE12CJSKCRE 2020-06-03 14:36:00+02:00 2020-06-03 14:40:10+02:00   \n",
       "1  A39PRBPSKA7A49 2020-06-03 14:36:02+02:00 2020-06-03 14:40:45+02:00   \n",
       "2   ACO21NZBM9EGS 2020-06-03 14:36:04+02:00 2020-06-03 14:41:15+02:00   \n",
       "3  A3F7IDKJWW8962 2020-06-03 14:35:48+02:00 2020-06-03 14:41:52+02:00   \n",
       "4  A2K6CBNIXLVRSS 2020-06-03 14:35:57+02:00 2020-06-03 14:42:02+02:00   \n",
       "\n",
       "   elapsed                       code                   assignment_id  \n",
       "0     4.17  EMOTIONALITY-FOR-CHATBOTS  33C7UALJVLZ9A0ZWKXXDJ6TK4O1180  \n",
       "1     4.72  EMOTIONALITY-FOR-CHATBOTS  338JKRMM260YXZDPJKKC7KFMB1WHAI  \n",
       "2     5.18  EMOTIONALITY-FOR-CHATBOTS  3R08VXYT7CWYBNAG7GUSYWNJPH3W76  \n",
       "3     6.07  EMOTIONALITY-FOR-CHATBOTS  3KV0LJBBH2MCOU0HCSMBUFCSSRJRM9  \n",
       "4     6.08  EMOTIONALITY-FOR-CHATBOTS  3YDTZAI2WXH8RZCU8U702UDF22541W  "
      ]
     },
     "execution_count": 10,
     "metadata": {},
     "output_type": "execute_result"
    }
   ],
   "source": [
    "print(mturk_df.shape)\n",
    "mturk_df.head()"
   ]
  },
  {
   "cell_type": "markdown",
   "metadata": {},
   "source": [
    "## Pay bonuses\n",
    "See documentation [here](https://boto3.amazonaws.com/v1/documentation/api/latest/reference/services/mturk.html?send_bonus#MTurk.Client.send_bonus)."
   ]
  },
  {
   "cell_type": "markdown",
   "metadata": {},
   "source": [
    "Note that in the example below I just copy the original dataframe as a `bonus_df` dataframe, but in reality I apply some selection rules and then copy only the selected workers."
   ]
  },
  {
   "cell_type": "code",
   "execution_count": 11,
   "metadata": {},
   "outputs": [],
   "source": [
    "bonus_df = mturk_df[['id', 'assignment_id']].copy()"
   ]
  },
  {
   "cell_type": "code",
   "execution_count": 12,
   "metadata": {},
   "outputs": [
    {
     "data": {
      "text/plain": [
       "(47, 2)"
      ]
     },
     "execution_count": 12,
     "metadata": {},
     "output_type": "execute_result"
    }
   ],
   "source": [
    "bonus_df.shape"
   ]
  },
  {
   "cell_type": "code",
   "execution_count": 13,
   "metadata": {},
   "outputs": [
    {
     "name": "stdout",
     "output_type": "stream",
     "text": [
      "I have $2137.14 in my Mturk account\n"
     ]
    }
   ],
   "source": [
    "# Make sure the connection is ok\n",
    "print(\"I have $\" + mturk.get_account_balance()['AvailableBalance'] + \" in my Mturk account\")"
   ]
  },
  {
   "cell_type": "code",
   "execution_count": 14,
   "metadata": {},
   "outputs": [],
   "source": [
    "worker_ids = bonus_df['id'].values.astype(str)\n",
    "assignment_ids = bonus_df['assignment_id'].values.astype(str)"
   ]
  },
  {
   "cell_type": "code",
   "execution_count": null,
   "metadata": {},
   "outputs": [],
   "source": [
    "reason = \"\\\n",
    "Your responses to at least 3 out of 5 tricky questions included in our survey were consistent, \\\n",
    "which shows you were paying due attention while completing the HIT.\""
   ]
  },
  {
   "cell_type": "markdown",
   "metadata": {},
   "source": [
    "The cell below runs the bonus payment process. I commented the code to make sure I don't run it by chance."
   ]
  },
  {
   "cell_type": "code",
   "execution_count": null,
   "metadata": {},
   "outputs": [],
   "source": [
    "# for worker_id, assignment_id in zip(worker_ids, assignment_ids):\n",
    "#     response = mturk.send_bonus(\n",
    "#         WorkerId=worker_id,\n",
    "#         BonusAmount='0.25', # <-- Change accordingly!\n",
    "#         AssignmentId=assignment_id,\n",
    "#         Reason=reason,\n",
    "#         UniqueRequestToken=worker_id+'-bonus-01'\n",
    "#     )\n",
    "#     print(response)\n",
    "#     print()"
   ]
  },
  {
   "cell_type": "code",
   "execution_count": null,
   "metadata": {},
   "outputs": [],
   "source": [
    "# check that the account was charged\n",
    "print(\"I have $\" + mturk.get_account_balance()['AvailableBalance'] + \" in my Mturk account\")"
   ]
  },
  {
   "cell_type": "code",
   "execution_count": null,
   "metadata": {},
   "outputs": [],
   "source": []
  }
 ],
 "metadata": {
  "kernelspec": {
   "display_name": "mturk",
   "language": "python",
   "name": "mturk"
  },
  "language_info": {
   "codemirror_mode": {
    "name": "ipython",
    "version": 3
   },
   "file_extension": ".py",
   "mimetype": "text/x-python",
   "name": "python",
   "nbconvert_exporter": "python",
   "pygments_lexer": "ipython3",
   "version": "3.7.4"
  }
 },
 "nbformat": 4,
 "nbformat_minor": 2
}
